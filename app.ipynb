{
 "cells": [
  {
   "cell_type": "code",
   "execution_count": 7,
   "id": "f1404863-30d6-4e7c-8281-973b80647dac",
   "metadata": {},
   "outputs": [],
   "source": [
    "# train_sentiment_model.py\n",
    "from sklearn.feature_extraction.text import TfidfVectorizer\n",
    "from sklearn.naive_bayes import MultinomialNB\n",
    "from sklearn.pipeline import Pipeline\n",
    "import pickle\n",
    "\n",
    "# Dataset sederhana buatan\n",
    "komentar = [\n",
    "    \"Saya sangat senang dengan layanan ini\",       # Positif\n",
    "    \"Produk ini buruk dan mengecewakan\",            # Negatif\n",
    "    \"Pengalaman yang menyenangkan\",                 # Positif\n",
    "    \"Saya tidak suka produk ini\",                   # Negatif\n",
    "    \"Layanan pelanggan sangat membantu\",            # Positif\n",
    "    \"Kualitas produk sangat jelek\",                 # Negatif\n",
    "    \"Ini adalah produk terbaik yang pernah saya beli\", # Positif\n",
    "    \"Saya kecewa dan marah dengan pelayanan\",       # Negatif\n",
    "]\n",
    "\n",
    "label = ['Positif', 'Negatif', 'Positif', 'Negatif', 'Positif', 'Negatif', 'Positif', 'Negatif']\n",
    "\n",
    "# Buat pipeline: TF-IDF + Naive Bayes\n",
    "model = Pipeline([\n",
    "    ('tfidf', TfidfVectorizer()),\n",
    "    ('nb', MultinomialNB())\n",
    "])\n",
    "\n",
    "model.fit(komentar, label)\n",
    "\n",
    "# Simpan model\n",
    "with open('model.pkl', 'wb') as f:\n",
    "    pickle.dump(model, f)\n"
   ]
  },
  {
   "cell_type": "markdown",
   "id": "9faa3da0-bedf-4ecb-b3a9-6eb3e4c6f6d7",
   "metadata": {},
   "source": [
    "\n",
    "from flask import Flask, request, jsonify, render_template\n",
    "import pickle\n",
    "\n",
    "app = Flask(__name__)\n",
    "model = pickle.load(open('model.pkl', 'rb'))\n",
    "\n",
    "@app.route('/')\n",
    "def home():\n",
    "    return render_template('index.html')\n",
    "\n",
    "@app.route('/predict', methods=['POST'])\n",
    "def predict():\n",
    "    data = request.get_json()\n",
    "    komentar = data['data']\n",
    "    hasil = model.predict([komentar])[0]\n",
    "    return jsonify({'result': hasil})\n",
    "\n",
    "if __name__ == '__main__':\n",
    "    app.run(debug=True)\n"
   ]
  },
  {
   "cell_type": "code",
   "execution_count": null,
   "id": "472efd8c-830e-4db6-bbd1-1ba47a0edcc6",
   "metadata": {},
   "outputs": [],
   "source": []
  }
 ],
 "metadata": {
  "kernelspec": {
   "display_name": "Python [conda env:base] *",
   "language": "python",
   "name": "conda-base-py"
  },
  "language_info": {
   "codemirror_mode": {
    "name": "ipython",
    "version": 3
   },
   "file_extension": ".py",
   "mimetype": "text/x-python",
   "name": "python",
   "nbconvert_exporter": "python",
   "pygments_lexer": "ipython3",
   "version": "3.12.7"
  }
 },
 "nbformat": 4,
 "nbformat_minor": 5
}
